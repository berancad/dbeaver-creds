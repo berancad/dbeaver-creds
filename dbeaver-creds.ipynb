{
 "cells": [
  {
   "cell_type": "code",
   "execution_count": null,
   "id": "0f45719d",
   "metadata": {},
   "outputs": [],
   "source": [
    "!pip install pycryptodome"
   ]
  },
  {
   "cell_type": "code",
   "execution_count": null,
   "id": "d65123ad",
   "metadata": {},
   "outputs": [],
   "source": [
    "# based on https://stackoverflow.com/questions/39928401/recover-db-password-stored-in-my-dbeaver-connection\n",
    "\n",
    "# requires pycryptodome lib (pip install pycryptodome)\n",
    "\n",
    "import sys\n",
    "import base64\n",
    "import os\n",
    "import json\n",
    "from Crypto.Cipher import AES\n",
    "\n",
    "default_paths = [\n",
    "  '~/Library/DBeaverData/workspace6/General/.dbeaver/',\n",
    "  '~/.local/share/DBeaverData/workspace6/General/.dbeaver/',\n",
    "  '~/.local/share/.DBeaverData/workspace6/General/.dbeaver/',\n",
    "  '~/AppData/Roaming/DBeaverData/workspace6/General/.dbeaver/',\n",
    "]\n",
    "\n",
    "cred_file = 'credentials-config.json'\n",
    "conns_file = 'data-sources.json'\n",
    "\n",
    "\n",
    "for path in default_paths:    \n",
    "    cred_path = os.path.join(path, cred_file)\n",
    "    conns_path = os.path.join(path, conns_file)\n",
    "    filepath = os.path.expanduser(cred_path)\n",
    "try:\n",
    "    f = open(filepath, 'rb')\n",
    "    f.close()    \n",
    "except Exception as e:\n",
    "    pass\n",
    "\n",
    "#actual key link\n",
    "#https://github.com/dbeaver/dbeaver/blob/8ed6d430a12ddc065a8bb69ec11babb152462f15/plugins/org.jkiss.dbeaver.registry/src/org/jkiss/dbeaver/registry/BaseProjectImpl.java#L77\n",
    "PASSWORD_DECRYPTION_ORIGINAL_KEY = [-70, -69, 74, -97, 119, 74, -72, 83, -55, 108, 45, 101, 61, -2, 84, 74]\n",
    "PASSWORD_DECRYPTION_KEY = bytes([i if i >= 0 else 256 + i for i in PASSWORD_DECRYPTION_ORIGINAL_KEY])\n",
    "\n",
    "with open(filepath, 'rb') as f:\n",
    "    data = f.read()\n",
    "\n",
    "decryptor = AES.new(PASSWORD_DECRYPTION_KEY, AES.MODE_CBC, data[:16])\n",
    "padded_output = decryptor.decrypt(data[16:])\n",
    "output = padded_output.rstrip(padded_output[-1:])\n",
    "json_creds = json.loads(output)\n",
    "\n",
    "with open(os.path.expanduser(conns_path), 'r') as f:\n",
    "    json_conns = json.load(f)['connections']\n",
    "\n",
    "for k,v in json_conns.items():        \n",
    "    name = v['configuration'].get('name')\n",
    "    host = v['configuration'].get('host')\n",
    "    database = v['configuration'].get('database')\n",
    "    url = v['configuration'].get('url')\n",
    "    port = v['configuration'].get('port')\n",
    "    if k in json_creds.keys():\n",
    "        json_creds[k]['#connection']['name'] = name\n",
    "        json_creds[k]['#connection']['host'] = host\n",
    "        json_creds[k]['#connection']['database'] = database\n",
    "        json_creds[k]['#connection']['url'] = url\n",
    "        json_creds[k]['#connection']['port'] = port    \n",
    "    \n",
    "try:\n",
    "    print(json.dumps(json_creds, indent=4, sort_keys=True))\n",
    "except:\n",
    "    print(output)"
   ]
  },
  {
   "cell_type": "code",
   "execution_count": null,
   "id": "09b58b64",
   "metadata": {},
   "outputs": [],
   "source": []
  }
 ],
 "metadata": {
  "kernelspec": {
   "display_name": "Python 3 (ipykernel)",
   "language": "python",
   "name": "python3"
  },
  "language_info": {
   "codemirror_mode": {
    "name": "ipython",
    "version": 3
   },
   "file_extension": ".py",
   "mimetype": "text/x-python",
   "name": "python",
   "nbconvert_exporter": "python",
   "pygments_lexer": "ipython3",
   "version": "3.9.7"
  }
 },
 "nbformat": 4,
 "nbformat_minor": 5
}
